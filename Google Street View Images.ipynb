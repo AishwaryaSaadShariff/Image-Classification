{
 "cells": [
  {
   "cell_type": "code",
   "execution_count": 0,
   "metadata": {
    "colab": {},
    "colab_type": "code",
    "id": "d-R6ZGEVUku_"
   },
   "outputs": [],
   "source": [
    "from google.colab import drive"
   ]
  },
  {
   "cell_type": "code",
   "execution_count": 0,
   "metadata": {
    "colab": {
     "base_uri": "https://localhost:8080/",
     "height": 34
    },
    "colab_type": "code",
    "executionInfo": {
     "elapsed": 565,
     "status": "ok",
     "timestamp": 1575062987147,
     "user": {
      "displayName": "Aishwarya Najmal",
      "photoUrl": "",
      "userId": "01125088430019493865"
     },
     "user_tz": 300
    },
    "id": "8rSh5wIiWFaA",
    "outputId": "84b9e662-2b1f-4b74-cfe6-244b718f66c7"
   },
   "outputs": [
    {
     "name": "stdout",
     "output_type": "stream",
     "text": [
      "Drive already mounted at /content/drive; to attempt to forcibly remount, call drive.mount(\"/content/drive\", force_remount=True).\n"
     ]
    }
   ],
   "source": [
    "drive.mount('/content/drive')"
   ]
  },
  {
   "cell_type": "markdown",
   "metadata": {
    "colab_type": "text",
    "id": "57YtC2MHO4cY"
   },
   "source": [
    "### 1. Load Libraries and dataset and do experimentation on dataset\n"
   ]
  },
  {
   "cell_type": "code",
   "execution_count": 0,
   "metadata": {
    "colab": {
     "base_uri": "https://localhost:8080/",
     "height": 95
    },
    "colab_type": "code",
    "executionInfo": {
     "elapsed": 1327,
     "status": "ok",
     "timestamp": 1575062991093,
     "user": {
      "displayName": "Aishwarya Najmal",
      "photoUrl": "",
      "userId": "01125088430019493865"
     },
     "user_tz": 300
    },
    "id": "-uid8vZAXHR3",
    "outputId": "7133f1af-ce48-46b4-db91-0a273e265d63"
   },
   "outputs": [
    {
     "data": {
      "image/png": "[encoded data removed]",
      "text/plain": [
       "<Figure size 720x72 with 10 Axes>"
      ]
     },
     "metadata": {
      "tags": []
     },
     "output_type": "display_data"
    },
    {
     "name": "stdout",
     "output_type": "stream",
     "text": [
      "label for each of the above image: [2 6 7 4 4 0 3 0 7 3]\n"
     ]
    }
   ],
   "source": [
    "# importing the required packages and loading the .h5 type data file using the h5py package  \n",
    "import h5py\n",
    "import numpy as np\n",
    "import tensorflow as tf\n",
    "from keras.datasets import mnist\n",
    "from keras.models import Sequential\n",
    "from keras.layers import Dense\n",
    "from keras.utils import np_utils\n",
    "\n",
    "# fix random seed for reproducibility\n",
    "seed = 7\n",
    "tf.set_random_seed(seed)\n",
    "\n",
    "\n",
    "# Open the file as readonly\n",
    "h5f = h5py.File('/content/drive/My Drive/Project 5 - NN/Data/SVHN_single_grey1.h5', 'r')\n",
    "# Load the training, test and validation set\n",
    "X_train = h5f['X_train'][:]\n",
    "y_train1 = h5f['y_train'][:]\n",
    "X_test = h5f['X_test'][:]\n",
    "y_test1 = h5f['y_test'][:]\n",
    "# Close this file\n",
    "h5f.close()\n",
    "\n",
    "# visualizing the first 10 images in the dataset and their labels\n",
    "%matplotlib inline\n",
    "import matplotlib.pyplot as plt\n",
    "plt.figure(figsize=(10, 1))\n",
    "for i in range(10):\n",
    "    plt.subplot(1, 10, i+1)\n",
    "    plt.imshow(X_train[i], cmap=\"gray\")\n",
    "    plt.axis('off')\n",
    "plt.show()\n",
    "print('label for each of the above image: %s' % (y_train1[0:10]))"
   ]
  },
  {
   "cell_type": "markdown",
   "metadata": {
    "colab_type": "text",
    "id": "U3ioArQbQ5Ld"
   },
   "source": [
    "### 2. Data Pre-processing"
   ]
  },
  {
   "cell_type": "code",
   "execution_count": 0,
   "metadata": {
    "colab": {
     "base_uri": "https://localhost:8080/",
     "height": 136
    },
    "colab_type": "code",
    "executionInfo": {
     "elapsed": 837,
     "status": "ok",
     "timestamp": 1575062995288,
     "user": {
      "displayName": "Aishwarya Najmal",
      "photoUrl": "",
      "userId": "01125088430019493865"
     },
     "user_tz": 300
    },
    "id": "8fL7e_oWQYyY",
    "outputId": "fcaf4fc9-8532-47c0-bda4-dd811353f97c"
   },
   "outputs": [
    {
     "name": "stdout",
     "output_type": "stream",
     "text": [
      "First 5 examples now are:  [[0. 0. 1. 0. 0. 0. 0. 0. 0. 0.]\n",
      " [0. 0. 0. 0. 0. 0. 1. 0. 0. 0.]\n",
      " [0. 0. 0. 0. 0. 0. 0. 1. 0. 0.]\n",
      " [0. 0. 0. 0. 1. 0. 0. 0. 0. 0.]\n",
      " [0. 0. 0. 0. 1. 0. 0. 0. 0. 0.]]\n",
      "Train Set shape for NN : (42000, 1024) (42000, 10)\n",
      "Test Set shape for NN : (18000, 1024) (18000, 10)\n"
     ]
    }
   ],
   "source": [
    "# reshaping the data at hand\n",
    "X_train = X_train.reshape(X_train.shape[0], 1024)\n",
    "X_test = X_test.reshape(X_test.shape[0], 1024)\n",
    "\n",
    "# normalize inputs from 0-255 to 0-1; to be used with the NN\n",
    "X_train = X_train / 255.0\n",
    "X_test = X_test / 255.0\n",
    "\n",
    "# no.of classes\n",
    "num_classes = y_test.shape[1]\n",
    "num_hidden = 32\n",
    "\n",
    "# converting y data into categorical (one-hot encoding)\n",
    "# y_train = np_utils.to_categorical(y_train1)\n",
    "# y_test = np_utils.to_categorical(y_test1)\n",
    "y_train = tf.keras.utils.to_categorical(y_train1,num_classes=y_test.shape[1])\n",
    "y_test = tf.keras.utils.to_categorical(y_test1,num_classes=y_test.shape[1])\n",
    "print('First 5 examples now are: ', y_train[0:5])\n",
    "\n",
    "# train and test data points to build a knn model\n",
    "x_tr = []\n",
    "for i in range(42000):\n",
    "    x_tr.append(X_train[i,:].flatten())\n",
    "x_te = []\n",
    "for i in range(18000):\n",
    "    x_te.append(X_test[i,:].flatten())\n",
    "\n",
    "# 2000 samples to be used in knn modelling    \n",
    "x_tr =x_tr[:2000]\n",
    "x_te =x_te[:2000]\n",
    "y_tr = y_train1[0:2000]\n",
    "y_te = y_test1[0:2000]\n",
    "\n",
    "print('Train Set shape for NN :', X_train.shape, y_train.shape)\n",
    "print('Test Set shape for NN :', X_test.shape, y_test.shape)"
   ]
  },
  {
   "cell_type": "markdown",
   "metadata": {
    "colab_type": "text",
    "id": "QkwSJHpZtlis"
   },
   "source": [
    "# 3. Implement k-Nearest Neighbor (kNN) classifier algorithm to classify the respective digits"
   ]
  },
  {
   "cell_type": "code",
   "execution_count": 0,
   "metadata": {
    "colab": {
     "base_uri": "https://localhost:8080/",
     "height": 323
    },
    "colab_type": "code",
    "executionInfo": {
     "elapsed": 15091,
     "status": "ok",
     "timestamp": 1575063017248,
     "user": {
      "displayName": "Aishwarya Najmal",
      "photoUrl": "",
      "userId": "01125088430019493865"
     },
     "user_tz": 300
    },
    "id": "2PfofQUCdmm5",
    "outputId": "2f087295-2438-4f84-d744-5f20f919badf"
   },
   "outputs": [
    {
     "name": "stdout",
     "output_type": "stream",
     "text": [
      "              precision    recall  f1-score   support\n",
      "\n",
      "           0       0.34      0.36      0.35       221\n",
      "           1       0.35      0.44      0.39       185\n",
      "           2       0.28      0.33      0.30       187\n",
      "           3       0.23      0.22      0.22       185\n",
      "           4       0.37      0.43      0.40       204\n",
      "           5       0.30      0.24      0.27       211\n",
      "           6       0.26      0.28      0.27       202\n",
      "           7       0.45      0.44      0.45       205\n",
      "           8       0.25      0.15      0.19       198\n",
      "           9       0.25      0.25      0.25       202\n",
      "\n",
      "    accuracy                           0.31      2000\n",
      "   macro avg       0.31      0.31      0.31      2000\n",
      "weighted avg       0.31      0.31      0.31      2000\n",
      "\n",
      "Accuracy using kNN model : 0.3135\n"
     ]
    }
   ],
   "source": [
    "# KNN Model\n",
    "from sklearn.neighbors import KNeighborsClassifier\n",
    "from sklearn import metrics\n",
    "from sklearn.metrics import accuracy_score, confusion_matrix\n",
    "KNN_Model = KNeighborsClassifier(n_neighbors= 5 , weights = 'distance' )\n",
    "KNN_Model.fit(x_tr, y_tr)\n",
    "y_KNNpredicted = KNN_Model.predict(x_te)\n",
    "print(metrics.classification_report(y_te,y_KNNpredicted))\n",
    "print('Accuracy using kNN model :', KNN_Model.score(x_te, y_te))"
   ]
  },
  {
   "cell_type": "markdown",
   "metadata": {
    "colab_type": "text",
    "id": "traBekMpuD38"
   },
   "source": [
    "### Classification Metrics for kNN Classifier\n",
    "\n",
    "1.   **Accuracy : 31.35%**\n",
    "2.   **Precision : 31%**\n",
    "3.   **Recall : 31%**\n",
    "4.   **f1-score : 31%**\n"
   ]
  },
  {
   "cell_type": "markdown",
   "metadata": {
    "colab_type": "text",
    "id": "Qqldqx8auXr5"
   },
   "source": [
    "# 4. Apply GridSearch CV to optimize the value of the hyperparameter 'k' "
   ]
  },
  {
   "cell_type": "code",
   "execution_count": 0,
   "metadata": {
    "colab": {
     "base_uri": "https://localhost:8080/",
     "height": 204
    },
    "colab_type": "code",
    "executionInfo": {
     "elapsed": 134125,
     "status": "ok",
     "timestamp": 1574957366130,
     "user": {
      "displayName": "Aishwarya Najmal",
      "photoUrl": "",
      "userId": "01125088430019493865"
     },
     "user_tz": 300
    },
    "id": "5h-GfG-_vTz_",
    "outputId": "e4526b4f-0272-4455-e3bb-61610d6ff424"
   },
   "outputs": [
    {
     "data": {
      "text/plain": [
       "GridSearchCV(cv=5, error_score='raise-deprecating',\n",
       "             estimator=KNeighborsClassifier(algorithm='auto', leaf_size=30,\n",
       "                                            metric='minkowski',\n",
       "                                            metric_params=None, n_jobs=None,\n",
       "                                            n_neighbors=5, p=2,\n",
       "                                            weights='uniform'),\n",
       "             iid='warn', n_jobs=None,\n",
       "             param_grid={'n_neighbors': array([ 1,  2,  3,  4,  5,  6,  7,  8,  9, 10, 11, 12, 13, 14, 15, 16, 17,\n",
       "       18, 19, 20, 21, 22, 23, 24])},\n",
       "             pre_dispatch='2*n_jobs', refit=True, return_train_score=False,\n",
       "             scoring=None, verbose=0)"
      ]
     },
     "execution_count": 6,
     "metadata": {
      "tags": []
     },
     "output_type": "execute_result"
    }
   ],
   "source": [
    "from sklearn.model_selection import GridSearchCV\n",
    "#create new a knn model\n",
    "knn2 = KNeighborsClassifier()\n",
    "#create a dictionary of all values of n_neighbors that needs to be tested\n",
    "param_grid = {'n_neighbors': np.arange(1, 25)}\n",
    "#use gridsearch to test all values for n_neighbors\n",
    "knn_gscv = GridSearchCV(knn2, param_grid, cv=5)\n",
    "#fit model to data\n",
    "knn_gscv.fit(x_tr, y_tr)"
   ]
  },
  {
   "cell_type": "code",
   "execution_count": 0,
   "metadata": {
    "colab": {
     "base_uri": "https://localhost:8080/",
     "height": 34
    },
    "colab_type": "code",
    "executionInfo": {
     "elapsed": 1113,
     "status": "ok",
     "timestamp": 1574961589672,
     "user": {
      "displayName": "Aishwarya Najmal",
      "photoUrl": "",
      "userId": "01125088430019493865"
     },
     "user_tz": 300
    },
    "id": "IowoB2cdxhaz",
    "outputId": "dcdb1c7d-2a19-4224-b3a2-0b1cace194f4"
   },
   "outputs": [
    {
     "data": {
      "text/plain": [
       "{'n_neighbors': 13}"
      ]
     },
     "execution_count": 7,
     "metadata": {
      "tags": []
     },
     "output_type": "execute_result"
    }
   ],
   "source": [
    "#check top performing n_neighbors value\n",
    "knn_gscv.best_params_"
   ]
  },
  {
   "cell_type": "code",
   "execution_count": 0,
   "metadata": {
    "colab": {
     "base_uri": "https://localhost:8080/",
     "height": 34
    },
    "colab_type": "code",
    "executionInfo": {
     "elapsed": 1566,
     "status": "ok",
     "timestamp": 1574961600540,
     "user": {
      "displayName": "Aishwarya Najmal",
      "photoUrl": "",
      "userId": "01125088430019493865"
     },
     "user_tz": 300
    },
    "id": "GQwnIQ2Cxo1T",
    "outputId": "e8879a94-a0d0-48f8-8e6c-53a80ca24f78"
   },
   "outputs": [
    {
     "data": {
      "text/plain": [
       "0.285"
      ]
     },
     "execution_count": 8,
     "metadata": {
      "tags": []
     },
     "output_type": "execute_result"
    }
   ],
   "source": [
    "#check mean score for the top performing value of n_neighbors\n",
    "knn_gscv.best_score_"
   ]
  },
  {
   "cell_type": "markdown",
   "metadata": {
    "colab_type": "text",
    "id": "LV7jhTksBvTX"
   },
   "source": [
    "# 5. Implement and apply a deep neural network classifier including (feedforward neural network, RELU activations) "
   ]
  },
  {
   "cell_type": "code",
   "execution_count": 0,
   "metadata": {
    "colab": {},
    "colab_type": "code",
    "id": "X1rSa2WnCGtU"
   },
   "outputs": [],
   "source": [
    "from keras.layers import Activation\n",
    "from keras import optimizers\n",
    "from keras.layers import Flatten"
   ]
  },
  {
   "cell_type": "code",
   "execution_count": 0,
   "metadata": {
    "colab": {},
    "colab_type": "code",
    "id": "5zrHWxvlCulf"
   },
   "outputs": [],
   "source": [
    "#Initialize Sequential model\n",
    "model = tf.keras.models.Sequential()\n",
    "\n",
    "#Reshape data from 2D to 1D -> 32x32 1024\n",
    "model.add(tf.keras.layers.Dense(50, input_shape = (1024, )))"
   ]
  },
  {
   "cell_type": "code",
   "execution_count": 0,
   "metadata": {
    "colab": {},
    "colab_type": "code",
    "id": "gFwvvL3ACxW8"
   },
   "outputs": [],
   "source": [
    "#Add 1st hidden layer\n",
    "model.add(tf.keras.layers.Dense(50, activation='relu'))\n",
    "#Add 2nd hidden layer\n",
    "model.add(tf.keras.layers.Dense(50, activation='relu'))\n",
    "#Add 3rd hidden layer\n",
    "model.add(tf.keras.layers.Dense(50, activation='relu'))\n",
    "#Add 4th hidden layer\n",
    "model.add(tf.keras.layers.Dense(50, activation='relu'))\n",
    "#Add OUTPUT layer\n",
    "model.add(tf.keras.layers.Dense(10, activation='softmax'))"
   ]
  },
  {
   "cell_type": "markdown",
   "metadata": {
    "colab_type": "text",
    "id": "_BYJJUQk375V"
   },
   "source": [
    "# 6. Understand and be able to implement (vectorized) backpropagation (cost stochastic gradient descent, cross entropy loss, cost functions)"
   ]
  },
  {
   "cell_type": "code",
   "execution_count": 0,
   "metadata": {
    "colab": {},
    "colab_type": "code",
    "id": "h3TTRMUcun5e"
   },
   "outputs": [],
   "source": [
    "#Create optimizer with non-default learning rate\n",
    "sgd_optimizer = tf.keras.optimizers.SGD(lr=0.03)\n",
    "\n",
    "#Compile the model\n",
    "model.compile(optimizer=sgd_optimizer, loss='categorical_crossentropy', metrics=['accuracy'])"
   ]
  },
  {
   "cell_type": "code",
   "execution_count": 0,
   "metadata": {
    "colab": {
     "base_uri": "https://localhost:8080/",
     "height": 357
    },
    "colab_type": "code",
    "executionInfo": {
     "elapsed": 548,
     "status": "ok",
     "timestamp": 1575063042757,
     "user": {
      "displayName": "Aishwarya Najmal",
      "photoUrl": "",
      "userId": "01125088430019493865"
     },
     "user_tz": 300
    },
    "id": "1LnNM_Zyu4w6",
    "outputId": "cc4ee8eb-3f86-4447-f057-0223057f80eb"
   },
   "outputs": [
    {
     "name": "stdout",
     "output_type": "stream",
     "text": [
      "Model: \"sequential_19\"\n",
      "_________________________________________________________________\n",
      "Layer (type)                 Output Shape              Param #   \n",
      "=================================================================\n",
      "dense_105 (Dense)            (None, 50)                51250     \n",
      "_________________________________________________________________\n",
      "dense_106 (Dense)            (None, 50)                2550      \n",
      "_________________________________________________________________\n",
      "dense_107 (Dense)            (None, 50)                2550      \n",
      "_________________________________________________________________\n",
      "dense_108 (Dense)            (None, 50)                2550      \n",
      "_________________________________________________________________\n",
      "dense_109 (Dense)            (None, 50)                2550      \n",
      "_________________________________________________________________\n",
      "dense_110 (Dense)            (None, 10)                510       \n",
      "=================================================================\n",
      "Total params: 61,960\n",
      "Trainable params: 61,960\n",
      "Non-trainable params: 0\n",
      "_________________________________________________________________\n"
     ]
    }
   ],
   "source": [
    "model.summary()"
   ]
  },
  {
   "cell_type": "code",
   "execution_count": 0,
   "metadata": {
    "colab": {
     "base_uri": "https://localhost:8080/",
     "height": 391
    },
    "colab_type": "code",
    "executionInfo": {
     "elapsed": 72012,
     "status": "ok",
     "timestamp": 1575063116306,
     "user": {
      "displayName": "Aishwarya Najmal",
      "photoUrl": "",
      "userId": "01125088430019493865"
     },
     "user_tz": 300
    },
    "id": "rouSLI_fvDaP",
    "outputId": "41b6967d-66db-4d07-b8c9-14503819dea4"
   },
   "outputs": [
    {
     "name": "stdout",
     "output_type": "stream",
     "text": [
      "Train on 42000 samples, validate on 18000 samples\n",
      "Epoch 1/10\n",
      "42000/42000 [==============================] - 8s 187us/sample - loss: 2.2589 - acc: 0.1423 - val_loss: 2.1440 - val_acc: 0.2048\n",
      "Epoch 2/10\n",
      "42000/42000 [==============================] - 7s 163us/sample - loss: 1.8008 - acc: 0.3644 - val_loss: 1.6157 - val_acc: 0.4308\n",
      "Epoch 3/10\n",
      "42000/42000 [==============================] - 7s 163us/sample - loss: 1.4601 - acc: 0.5048 - val_loss: 1.3351 - val_acc: 0.5561\n",
      "Epoch 4/10\n",
      "42000/42000 [==============================] - 7s 162us/sample - loss: 1.3182 - acc: 0.5619 - val_loss: 1.5125 - val_acc: 0.4939\n",
      "Epoch 5/10\n",
      "42000/42000 [==============================] - 7s 164us/sample - loss: 1.2194 - acc: 0.6029 - val_loss: 1.0766 - val_acc: 0.6598\n",
      "Epoch 6/10\n",
      "42000/42000 [==============================] - 7s 162us/sample - loss: 1.1363 - acc: 0.6361 - val_loss: 1.1501 - val_acc: 0.6213\n",
      "Epoch 7/10\n",
      "42000/42000 [==============================] - 7s 163us/sample - loss: 1.0606 - acc: 0.6629 - val_loss: 1.0656 - val_acc: 0.6611\n",
      "Epoch 8/10\n",
      "42000/42000 [==============================] - 7s 164us/sample - loss: 1.0007 - acc: 0.6827 - val_loss: 1.0913 - val_acc: 0.6521\n",
      "Epoch 9/10\n",
      "42000/42000 [==============================] - 7s 164us/sample - loss: 0.9577 - acc: 0.6970 - val_loss: 1.3696 - val_acc: 0.5611\n",
      "Epoch 10/10\n",
      "42000/42000 [==============================] - 7s 166us/sample - loss: 0.9170 - acc: 0.7120 - val_loss: 1.0259 - val_acc: 0.6698\n"
     ]
    },
    {
     "data": {
      "text/plain": [
       "<tensorflow.python.keras.callbacks.History at 0x7ff45a89f7f0>"
      ]
     },
     "execution_count": 181,
     "metadata": {
      "tags": []
     },
     "output_type": "execute_result"
    }
   ],
   "source": [
    "model.fit(X_train,y_train,    \n",
    "          validation_data=(X_test,y_test),      \n",
    "          epochs=10,\n",
    "          batch_size=32)"
   ]
  },
  {
   "cell_type": "code",
   "execution_count": 0,
   "metadata": {
    "colab": {
     "base_uri": "https://localhost:8080/",
     "height": 34
    },
    "colab_type": "code",
    "executionInfo": {
     "elapsed": 2246,
     "status": "ok",
     "timestamp": 1575063123507,
     "user": {
      "displayName": "Aishwarya Najmal",
      "photoUrl": "",
      "userId": "01125088430019493865"
     },
     "user_tz": 300
    },
    "id": "YKGMvKJJPDhu",
    "outputId": "8d1de3e8-6d67-41f3-a556-8d1c10cf33b5"
   },
   "outputs": [
    {
     "name": "stdout",
     "output_type": "stream",
     "text": [
      "18000/18000 [==============================] - 2s 95us/sample - loss: 1.0259 - acc: 0.6698\n"
     ]
    }
   ],
   "source": [
    "results = model.evaluate(X_test, y_test)"
   ]
  },
  {
   "cell_type": "code",
   "execution_count": 0,
   "metadata": {
    "colab": {
     "base_uri": "https://localhost:8080/",
     "height": 34
    },
    "colab_type": "code",
    "executionInfo": {
     "elapsed": 552,
     "status": "ok",
     "timestamp": 1575063136345,
     "user": {
      "displayName": "Aishwarya Najmal",
      "photoUrl": "",
      "userId": "01125088430019493865"
     },
     "user_tz": 300
    },
    "id": "QrwtM2CBUo6k",
    "outputId": "446906ac-4741-4d7a-d136-fbc06eeb9bbd"
   },
   "outputs": [
    {
     "name": "stdout",
     "output_type": "stream",
     "text": [
      "Test accuracy:  0.66983336\n"
     ]
    }
   ],
   "source": [
    "print('Test accuracy: ', results[1])"
   ]
  },
  {
   "cell_type": "markdown",
   "metadata": {
    "colab_type": "text",
    "id": "4HPFIpZe7Igl"
   },
   "source": [
    "# 6. Implement batch normalization for training the neural network"
   ]
  },
  {
   "cell_type": "code",
   "execution_count": 0,
   "metadata": {
    "colab": {},
    "colab_type": "code",
    "id": "IE1I0DEOUsrB"
   },
   "outputs": [],
   "source": [
    "# Batch normalization layer is usually inserted after dense/convolution and before nonlinearity\n",
    "from keras.layers import BatchNormalization, Dropout\n",
    "\n",
    "def mlp_model():\n",
    "    model = tf.keras.models.Sequential()\n",
    "    \n",
    "    model.add(tf.keras.layers.Dense(50, input_shape = (1024, )))\n",
    "    model.add(tf.keras.layers.BatchNormalization())                    \n",
    "    model.add(tf.keras.layers.Activation('relu'))  \n",
    "    #Add 1st hidden layer  \n",
    "    model.add(tf.keras.layers.Dense(50))\n",
    "    model.add(tf.keras.layers.BatchNormalization())                    \n",
    "    model.add(tf.keras.layers.Activation('relu'))    \n",
    "    #Add 2nd hidden layer\n",
    "    model.add(tf.keras.layers.Dense(50))\n",
    "    model.add(tf.keras.layers.BatchNormalization())                    \n",
    "    model.add(tf.keras.layers.Activation('relu'))    \n",
    "    #Add 3rd hidden layer\n",
    "    model.add(tf.keras.layers.Dense(50))\n",
    "    model.add(tf.keras.layers.BatchNormalization())                    \n",
    "    model.add(tf.keras.layers.Activation('relu'))    \n",
    "    #Add 4th hidden layer\n",
    "    model.add(tf.keras.layers.Dense(50))\n",
    "    model.add(tf.keras.layers.BatchNormalization())                    \n",
    "    model.add(tf.keras.layers.Activation('relu'))\n",
    "    #Add OUTPUT layer \n",
    "    model.add(tf.keras.layers.Dense(10))\n",
    "    model.add(tf.keras.layers.Activation('softmax'))\n",
    "    \n",
    "    sgd = tf.keras.optimizers.SGD(lr = 0.03)\n",
    "    model.compile(optimizer = sgd, loss = 'categorical_crossentropy', metrics = ['accuracy'])\n",
    "    \n",
    "    return model"
   ]
  },
  {
   "cell_type": "code",
   "execution_count": 0,
   "metadata": {
    "colab": {
     "base_uri": "https://localhost:8080/",
     "height": 374
    },
    "colab_type": "code",
    "executionInfo": {
     "elapsed": 149435,
     "status": "ok",
     "timestamp": 1575063294261,
     "user": {
      "displayName": "Aishwarya Najmal",
      "photoUrl": "",
      "userId": "01125088430019493865"
     },
     "user_tz": 300
    },
    "id": "VPxDg7zUEKCh",
    "outputId": "f834fa4c-6e0f-470f-c224-8c6792dbb3b4"
   },
   "outputs": [
    {
     "name": "stdout",
     "output_type": "stream",
     "text": [
      "Train on 42000 samples, validate on 18000 samples\n",
      "Epoch 1/10\n",
      "42000/42000 [==============================] - 16s 380us/sample - loss: 1.7700 - acc: 0.3795 - val_loss: 1.9661 - val_acc: 0.3661\n",
      "Epoch 2/10\n",
      "42000/42000 [==============================] - 15s 347us/sample - loss: 1.2630 - acc: 0.5892 - val_loss: 1.2622 - val_acc: 0.5783\n",
      "Epoch 3/10\n",
      "42000/42000 [==============================] - 14s 345us/sample - loss: 1.1100 - acc: 0.6466 - val_loss: 1.2686 - val_acc: 0.5846\n",
      "Epoch 4/10\n",
      "42000/42000 [==============================] - 14s 344us/sample - loss: 1.0262 - acc: 0.6739 - val_loss: 1.3017 - val_acc: 0.5841\n",
      "Epoch 5/10\n",
      "42000/42000 [==============================] - 15s 349us/sample - loss: 0.9698 - acc: 0.6927 - val_loss: 1.1482 - val_acc: 0.6394\n",
      "Epoch 6/10\n",
      "42000/42000 [==============================] - 14s 340us/sample - loss: 0.9229 - acc: 0.7084 - val_loss: 1.2837 - val_acc: 0.5734\n",
      "Epoch 7/10\n",
      "42000/42000 [==============================] - 14s 343us/sample - loss: 0.8833 - acc: 0.7205 - val_loss: 1.0770 - val_acc: 0.6596\n",
      "Epoch 8/10\n",
      "42000/42000 [==============================] - 14s 343us/sample - loss: 0.8534 - acc: 0.7296 - val_loss: 0.9830 - val_acc: 0.6867\n",
      "Epoch 9/10\n",
      "42000/42000 [==============================] - 15s 347us/sample - loss: 0.8290 - acc: 0.7380 - val_loss: 0.9750 - val_acc: 0.6926\n",
      "Epoch 10/10\n",
      "42000/42000 [==============================] - 14s 340us/sample - loss: 0.8056 - acc: 0.7468 - val_loss: 0.9484 - val_acc: 0.7050\n"
     ]
    }
   ],
   "source": [
    "model = mlp_model()\n",
    "history = model.fit(X_train,y_train,    \n",
    "          validation_data=(X_test,y_test),      \n",
    "          epochs=10,\n",
    "          batch_size=32)"
   ]
  },
  {
   "cell_type": "code",
   "execution_count": 0,
   "metadata": {
    "colab": {
     "base_uri": "https://localhost:8080/",
     "height": 34
    },
    "colab_type": "code",
    "executionInfo": {
     "elapsed": 2511,
     "status": "ok",
     "timestamp": 1575064042153,
     "user": {
      "displayName": "Aishwarya Najmal",
      "photoUrl": "",
      "userId": "01125088430019493865"
     },
     "user_tz": 300
    },
    "id": "miywAkl7FttN",
    "outputId": "41de2f2b-c660-4249-ee71-079fec12ab95"
   },
   "outputs": [
    {
     "name": "stdout",
     "output_type": "stream",
     "text": [
      "18000/18000 [==============================] - 2s 116us/sample - loss: 0.9484 - acc: 0.7050\n"
     ]
    }
   ],
   "source": [
    "results = model.evaluate(X_test, y_test)"
   ]
  },
  {
   "cell_type": "code",
   "execution_count": 0,
   "metadata": {
    "colab": {
     "base_uri": "https://localhost:8080/",
     "height": 34
    },
    "colab_type": "code",
    "executionInfo": {
     "elapsed": 555,
     "status": "ok",
     "timestamp": 1575064045234,
     "user": {
      "displayName": "Aishwarya Najmal",
      "photoUrl": "",
      "userId": "01125088430019493865"
     },
     "user_tz": 300
    },
    "id": "T_yNDzCcF4M-",
    "outputId": "866d9c45-cac0-460d-dfcb-00a9f5e2addd"
   },
   "outputs": [
    {
     "name": "stdout",
     "output_type": "stream",
     "text": [
      "Test accuracy:  0.705\n"
     ]
    }
   ],
   "source": [
    "print('Test accuracy: ', results[1])"
   ]
  },
  {
   "cell_type": "markdown",
   "metadata": {
    "colab_type": "text",
    "id": "nMYLVenPOHKb"
   },
   "source": [
    "# Tweaking the learning rate "
   ]
  },
  {
   "cell_type": "code",
   "execution_count": 0,
   "metadata": {
    "colab": {},
    "colab_type": "code",
    "id": "f8wdUx-oG693"
   },
   "outputs": [],
   "source": [
    "def mlp_model():\n",
    "    model = tf.keras.models.Sequential()\n",
    "    \n",
    "    model.add(tf.keras.layers.Dense(50, input_shape = (1024, )))\n",
    "    model.add(tf.keras.layers.BatchNormalization())                    \n",
    "    model.add(tf.keras.layers.Activation('relu'))  \n",
    "    #Add 1st hidden layer  \n",
    "    model.add(tf.keras.layers.Dense(50))\n",
    "    model.add(tf.keras.layers.BatchNormalization())                    \n",
    "    model.add(tf.keras.layers.Activation('relu'))    \n",
    "    #Add 2nd hidden layer\n",
    "    model.add(tf.keras.layers.Dense(50))\n",
    "    model.add(tf.keras.layers.BatchNormalization())                    \n",
    "    model.add(tf.keras.layers.Activation('relu'))    \n",
    "    #Add 3rd hidden layer\n",
    "    model.add(tf.keras.layers.Dense(50))\n",
    "    model.add(tf.keras.layers.BatchNormalization())                    \n",
    "    model.add(tf.keras.layers.Activation('relu'))    \n",
    "    #Add 4th hidden layer\n",
    "    model.add(tf.keras.layers.Dense(50))\n",
    "    model.add(tf.keras.layers.BatchNormalization())                    \n",
    "    model.add(tf.keras.layers.Activation('relu'))\n",
    "    #Add OUTPUT layer \n",
    "    model.add(tf.keras.layers.Dense(10))\n",
    "    model.add(tf.keras.layers.Activation('softmax'))\n",
    "    \n",
    "    sgd = tf.keras.optimizers.SGD(lr = 0.01)\n",
    "    model.compile(optimizer = sgd, loss = 'categorical_crossentropy', metrics = ['accuracy'])\n",
    "    \n",
    "    return model\n",
    "\n"
   ]
  },
  {
   "cell_type": "code",
   "execution_count": 0,
   "metadata": {
    "colab": {
     "base_uri": "https://localhost:8080/",
     "height": 374
    },
    "colab_type": "code",
    "executionInfo": {
     "elapsed": 146826,
     "status": "ok",
     "timestamp": 1575064203710,
     "user": {
      "displayName": "Aishwarya Najmal",
      "photoUrl": "",
      "userId": "01125088430019493865"
     },
     "user_tz": 300
    },
    "id": "T-Q-f-NxJ4eM",
    "outputId": "d12b2265-a894-4a4e-ea7b-52969aac7733"
   },
   "outputs": [
    {
     "name": "stdout",
     "output_type": "stream",
     "text": [
      "Train on 42000 samples, validate on 18000 samples\n",
      "Epoch 1/10\n",
      "42000/42000 [==============================] - 16s 371us/sample - loss: 2.0082 - acc: 0.2871 - val_loss: 2.1712 - val_acc: 0.2437\n",
      "Epoch 2/10\n",
      "42000/42000 [==============================] - 14s 333us/sample - loss: 1.4328 - acc: 0.5327 - val_loss: 1.6327 - val_acc: 0.4543\n",
      "Epoch 3/10\n",
      "42000/42000 [==============================] - 14s 334us/sample - loss: 1.2274 - acc: 0.6097 - val_loss: 1.3930 - val_acc: 0.5578\n",
      "Epoch 4/10\n",
      "42000/42000 [==============================] - 14s 333us/sample - loss: 1.1326 - acc: 0.6363 - val_loss: 1.5558 - val_acc: 0.5226\n",
      "Epoch 5/10\n",
      "42000/42000 [==============================] - 14s 341us/sample - loss: 1.0679 - acc: 0.6623 - val_loss: 1.1657 - val_acc: 0.6221\n",
      "Epoch 6/10\n",
      "42000/42000 [==============================] - 14s 337us/sample - loss: 1.0187 - acc: 0.6770 - val_loss: 1.0812 - val_acc: 0.6537\n",
      "Epoch 7/10\n",
      "42000/42000 [==============================] - 14s 343us/sample - loss: 0.9740 - acc: 0.6917 - val_loss: 1.2142 - val_acc: 0.6027\n",
      "Epoch 8/10\n",
      "42000/42000 [==============================] - 14s 337us/sample - loss: 0.9390 - acc: 0.7040 - val_loss: 1.5212 - val_acc: 0.5366\n",
      "Epoch 9/10\n",
      "42000/42000 [==============================] - 14s 332us/sample - loss: 0.9101 - acc: 0.7109 - val_loss: 1.0651 - val_acc: 0.6666\n",
      "Epoch 10/10\n",
      "42000/42000 [==============================] - 14s 330us/sample - loss: 0.8788 - acc: 0.7228 - val_loss: 1.2031 - val_acc: 0.6250\n"
     ]
    }
   ],
   "source": [
    "model = mlp_model()\n",
    "history = model.fit(X_train,y_train,    \n",
    "          validation_data=(X_test,y_test),      \n",
    "          epochs=10,\n",
    "          batch_size=32)"
   ]
  },
  {
   "cell_type": "code",
   "execution_count": 0,
   "metadata": {
    "colab": {
     "base_uri": "https://localhost:8080/",
     "height": 51
    },
    "colab_type": "code",
    "executionInfo": {
     "elapsed": 2564,
     "status": "ok",
     "timestamp": 1575068314817,
     "user": {
      "displayName": "Aishwarya Najmal",
      "photoUrl": "",
      "userId": "01125088430019493865"
     },
     "user_tz": 300
    },
    "id": "UhO_BEDgJrNq",
    "outputId": "0e24b37b-c1d9-43d7-897b-908c8d54b65c"
   },
   "outputs": [
    {
     "name": "stdout",
     "output_type": "stream",
     "text": [
      "18000/18000 [==============================] - 2s 116us/sample - loss: 1.2031 - acc: 0.6250\n",
      "Test accuracy:  0.625\n"
     ]
    }
   ],
   "source": [
    "results = model.evaluate(X_test, y_test)\n",
    "print('Test accuracy: ', results[1])"
   ]
  },
  {
   "cell_type": "code",
   "execution_count": 0,
   "metadata": {
    "colab": {},
    "colab_type": "code",
    "id": "ma3dkRdWF5VA"
   },
   "outputs": [],
   "source": [
    "def mlp_model():\n",
    "    model = tf.keras.models.Sequential()\n",
    "    \n",
    "    model.add(tf.keras.layers.Dense(50, input_shape = (1024, ), kernel_initializer='he_normal'))\n",
    "    model.add(tf.keras.layers.BatchNormalization())\n",
    "    model.add(tf.keras.layers.Activation('relu'))\n",
    "    # model.add(Dropout(0.2))\n",
    "    model.add(tf.keras.layers.Dense(50, kernel_initializer='he_normal'))\n",
    "    model.add(tf.keras.layers.BatchNormalization())\n",
    "    model.add(tf.keras.layers.Activation('relu'))    \n",
    "    # model.add(Dropout(0.2))\n",
    "    model.add(tf.keras.layers.Dense(50, kernel_initializer='he_normal'))\n",
    "    model.add(tf.keras.layers.BatchNormalization())\n",
    "    model.add(tf.keras.layers.Activation('relu'))\n",
    "    # model.add(Dropout(0.2))\n",
    "    model.add(tf.keras.layers.Dense(50, kernel_initializer='he_normal'))\n",
    "    model.add(tf.keras.layers.BatchNormalization())\n",
    "    model.add(tf.keras.layers.Activation('relu'))\n",
    "    # model.add(Dropout(0.2))\n",
    "    model.add(tf.keras.layers.Dense(10, kernel_initializer='he_normal'))\n",
    "    model.add(tf.keras.layers.Activation('softmax'))\n",
    "    \n",
    "    sgd = tf.keras.optimizers.SGD(lr = 0.03)\n",
    "    model.compile(optimizer = sgd, loss = 'categorical_crossentropy', metrics = ['accuracy'])\n",
    "    \n",
    "    return model\n"
   ]
  },
  {
   "cell_type": "code",
   "execution_count": 0,
   "metadata": {
    "colab": {
     "base_uri": "https://localhost:8080/",
     "height": 374
    },
    "colab_type": "code",
    "executionInfo": {
     "elapsed": 133132,
     "status": "ok",
     "timestamp": 1575068461810,
     "user": {
      "displayName": "Aishwarya Najmal",
      "photoUrl": "",
      "userId": "01125088430019493865"
     },
     "user_tz": 300
    },
    "id": "jJzpkkfFPqIC",
    "outputId": "eb330750-86a4-4f3b-ce05-2516f8d94f6d"
   },
   "outputs": [
    {
     "name": "stdout",
     "output_type": "stream",
     "text": [
      "Train on 42000 samples, validate on 18000 samples\n",
      "Epoch 1/10\n",
      "42000/42000 [==============================] - 14s 338us/sample - loss: 1.7137 - acc: 0.4129 - val_loss: 1.7576 - val_acc: 0.4253\n",
      "Epoch 2/10\n",
      "42000/42000 [==============================] - 13s 314us/sample - loss: 1.2474 - acc: 0.5984 - val_loss: 1.7493 - val_acc: 0.4387\n",
      "Epoch 3/10\n",
      "42000/42000 [==============================] - 13s 303us/sample - loss: 1.0996 - acc: 0.6502 - val_loss: 1.4751 - val_acc: 0.5346\n",
      "Epoch 4/10\n",
      "42000/42000 [==============================] - 13s 305us/sample - loss: 1.0216 - acc: 0.6750 - val_loss: 1.3764 - val_acc: 0.5578\n",
      "Epoch 5/10\n",
      "42000/42000 [==============================] - 13s 310us/sample - loss: 0.9565 - acc: 0.6973 - val_loss: 1.3234 - val_acc: 0.5760\n",
      "Epoch 6/10\n",
      "42000/42000 [==============================] - 13s 308us/sample - loss: 0.9087 - acc: 0.7127 - val_loss: 1.0628 - val_acc: 0.6789\n",
      "Epoch 7/10\n",
      "42000/42000 [==============================] - 13s 300us/sample - loss: 0.8759 - acc: 0.7228 - val_loss: 1.3811 - val_acc: 0.5852\n",
      "Epoch 8/10\n",
      "42000/42000 [==============================] - 13s 305us/sample - loss: 0.8442 - acc: 0.7321 - val_loss: 1.0622 - val_acc: 0.6664\n",
      "Epoch 9/10\n",
      "42000/42000 [==============================] - 13s 302us/sample - loss: 0.8260 - acc: 0.7400 - val_loss: 1.0842 - val_acc: 0.6529\n",
      "Epoch 10/10\n",
      "42000/42000 [==============================] - 13s 301us/sample - loss: 0.7989 - acc: 0.7473 - val_loss: 0.8964 - val_acc: 0.7161\n"
     ]
    }
   ],
   "source": [
    "model = mlp_model()\n",
    "history = model.fit(X_train,y_train,    \n",
    "          validation_data=(X_test,y_test),      \n",
    "          epochs=10,\n",
    "          batch_size=32)"
   ]
  },
  {
   "cell_type": "code",
   "execution_count": 0,
   "metadata": {
    "colab": {
     "base_uri": "https://localhost:8080/",
     "height": 51
    },
    "colab_type": "code",
    "executionInfo": {
     "elapsed": 2393,
     "status": "ok",
     "timestamp": 1575068473192,
     "user": {
      "displayName": "Aishwarya Najmal",
      "photoUrl": "",
      "userId": "01125088430019493865"
     },
     "user_tz": 300
    },
    "id": "YFiyjp1hPm2z",
    "outputId": "e74edd8c-232a-4631-9eb9-1694a28189d6"
   },
   "outputs": [
    {
     "name": "stdout",
     "output_type": "stream",
     "text": [
      "18000/18000 [==============================] - 2s 113us/sample - loss: 0.8964 - acc: 0.7161\n",
      "Test accuracy:  0.7160556\n"
     ]
    }
   ],
   "source": [
    "results = model.evaluate(X_test, y_test)\n",
    "print('Test accuracy: ', results[1])"
   ]
  },
  {
   "cell_type": "code",
   "execution_count": 0,
   "metadata": {
    "colab": {},
    "colab_type": "code",
    "id": "uGfPUhKxZnzw"
   },
   "outputs": [],
   "source": [
    "y_NNpredClass = model.predict_classes(X_test)"
   ]
  },
  {
   "cell_type": "code",
   "execution_count": 0,
   "metadata": {
    "colab": {
     "base_uri": "https://localhost:8080/",
     "height": 34
    },
    "colab_type": "code",
    "executionInfo": {
     "elapsed": 677,
     "status": "ok",
     "timestamp": 1575068598690,
     "user": {
      "displayName": "Aishwarya Najmal",
      "photoUrl": "",
      "userId": "01125088430019493865"
     },
     "user_tz": 300
    },
    "id": "65nBgIFz8rUf",
    "outputId": "e76ceb7a-7880-442b-e831-d51840a1c93d"
   },
   "outputs": [
    {
     "name": "stdout",
     "output_type": "stream",
     "text": [
      "0.7160555555555556\n"
     ]
    }
   ],
   "source": [
    "# accuracy: (tp + tn) / (p + n)\n",
    "accuracy = accuracy_score(y_test1, y_NNpredClass)\n",
    "print(accuracy)"
   ]
  },
  {
   "cell_type": "code",
   "execution_count": 0,
   "metadata": {
    "colab": {},
    "colab_type": "code",
    "id": "BUN7cvps_bv5"
   },
   "outputs": [],
   "source": [
    "from sklearn.metrics import precision_score"
   ]
  },
  {
   "cell_type": "code",
   "execution_count": 0,
   "metadata": {
    "colab": {
     "base_uri": "https://localhost:8080/",
     "height": 34
    },
    "colab_type": "code",
    "executionInfo": {
     "elapsed": 733,
     "status": "ok",
     "timestamp": 1575068621078,
     "user": {
      "displayName": "Aishwarya Najmal",
      "photoUrl": "",
      "userId": "01125088430019493865"
     },
     "user_tz": 300
    },
    "id": "vwk4ksOj_ts7",
    "outputId": "47858eab-b3b9-4677-b8d9-50a761a5e61c"
   },
   "outputs": [
    {
     "name": "stdout",
     "output_type": "stream",
     "text": [
      "Precision: 0.736983\n"
     ]
    }
   ],
   "source": [
    "# precision tp / (tp + fp)\n",
    "precision = precision_score(y_test1, y_NNpredClass, average= 'weighted')\n",
    "print('Precision: %f' % precision)"
   ]
  },
  {
   "cell_type": "code",
   "execution_count": 0,
   "metadata": {
    "colab": {},
    "colab_type": "code",
    "id": "Fi1sA1El_ySQ"
   },
   "outputs": [],
   "source": [
    "from sklearn.metrics import recall_score"
   ]
  },
  {
   "cell_type": "code",
   "execution_count": 0,
   "metadata": {
    "colab": {
     "base_uri": "https://localhost:8080/",
     "height": 34
    },
    "colab_type": "code",
    "executionInfo": {
     "elapsed": 597,
     "status": "ok",
     "timestamp": 1575068625402,
     "user": {
      "displayName": "Aishwarya Najmal",
      "photoUrl": "",
      "userId": "01125088430019493865"
     },
     "user_tz": 300
    },
    "id": "okmT3sU7BKDd",
    "outputId": "c1259443-d55f-4ada-baa4-e8ec5d6d4ee6"
   },
   "outputs": [
    {
     "name": "stdout",
     "output_type": "stream",
     "text": [
      "Recall: 0.716056\n"
     ]
    }
   ],
   "source": [
    "# recall: tp / (tp + fn)\n",
    "recall = recall_score(y_test1, y_NNpredClass, average='weighted')\n",
    "print('Recall: %f' % recall)"
   ]
  },
  {
   "cell_type": "code",
   "execution_count": 0,
   "metadata": {
    "colab": {},
    "colab_type": "code",
    "id": "ld2bWGIEBPar"
   },
   "outputs": [],
   "source": [
    "from sklearn.metrics import f1_score"
   ]
  },
  {
   "cell_type": "code",
   "execution_count": 0,
   "metadata": {
    "colab": {
     "base_uri": "https://localhost:8080/",
     "height": 34
    },
    "colab_type": "code",
    "executionInfo": {
     "elapsed": 561,
     "status": "ok",
     "timestamp": 1575068630039,
     "user": {
      "displayName": "Aishwarya Najmal",
      "photoUrl": "",
      "userId": "01125088430019493865"
     },
     "user_tz": 300
    },
    "id": "9cGOWEsvBXcm",
    "outputId": "6d8ec842-f57e-4469-b41c-fa0c9ebde1dc"
   },
   "outputs": [
    {
     "name": "stdout",
     "output_type": "stream",
     "text": [
      "F1 score: 0.717704\n"
     ]
    }
   ],
   "source": [
    "# f1: 2 tp / (2 tp + fp + fn)\n",
    "f1 = f1_score(y_test1, y_NNpredClass, average='weighted')\n",
    "print('F1 score: %f' % f1)"
   ]
  },
  {
   "cell_type": "markdown",
   "metadata": {
    "colab_type": "text",
    "id": "IBV-FmgmD1Tc"
   },
   "source": [
    "### Classification Metrics for Neural Networks\n",
    "\n",
    "1.   **Accuracy : 71.60%**\n",
    "2.   **Precision : 73.69%**\n",
    "3.   **Recall : 71.60%**\n",
    "4.   **f1-score : 71.77%**"
   ]
  },
  {
   "cell_type": "markdown",
   "metadata": {
    "colab_type": "text",
    "id": "0Y5Wn4GZM3w0"
   },
   "source": [
    "# Understand the differences and trade-offs between traditional and NN classifiers with the help of classification metrics\n",
    "\n",
    "\n",
    "\n",
    "*   As evident from the Classification Metric scores above, a Neural Network is far more desirable to solve a complex problem such as Image Recognition when compared to traditional Classifiers such as kNN Classifier\n",
    "*   IN case of a Neural Network classification, very minimal if not nill feature extraction is required in order to get a classification algorithm to run on the data.\n",
    "*   Since NN does not require any feature extraction steps to be performed, the need for a domain expert to identify all the relevant features that need to be part of the algorithm is considerably reduced.\n",
    "*   Each perceptron denotes / represents one aspect of a data point and together all the perceptrons help provide an accurate representation of the input image.\n",
    "*   The weights assigned to each node represents it relationship with respect to the output and these weights gets adjusted as the algorithm starts learning and developing (Backward Propagation)\n",
    "*   On the flip side NN requires special GPU to run the algorithm, while kNN could run with ni such special requirements\n",
    "*   Also the story telling power / interpretability of the kNN model is more when compared to NN\n"
   ]
  }
 ],
 "metadata": {
  "accelerator": "GPU",
  "colab": {
   "collapsed_sections": [],
   "name": "Project 5.ipynb",
   "provenance": []
  },
  "kernelspec": {
   "display_name": "Python 3",
   "language": "python",
   "name": "python3"
  },
  "language_info": {
   "codemirror_mode": {
    "name": "ipython",
    "version": 3
   },
   "file_extension": ".py",
   "mimetype": "text/x-python",
   "name": "python",
   "nbconvert_exporter": "python",
   "pygments_lexer": "ipython3",
   "version": "3.7.3"
  }
 },
 "nbformat": 4,
 "nbformat_minor": 1
}
